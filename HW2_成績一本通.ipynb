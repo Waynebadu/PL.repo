{
  "nbformat": 4,
  "nbformat_minor": 0,
  "metadata": {
    "colab": {
      "provenance": [],
      "include_colab_link": true
    },
    "kernelspec": {
      "name": "python3",
      "display_name": "Python 3"
    },
    "language_info": {
      "name": "python"
    }
  },
  "cells": [
    {
      "cell_type": "markdown",
      "metadata": {
        "id": "view-in-github",
        "colab_type": "text"
      },
      "source": [
        "<a href=\"https://colab.research.google.com/github/Waynebadu/PL.repo/blob/main/HW2_%E6%88%90%E7%B8%BE%E4%B8%80%E6%9C%AC%E9%80%9A.ipynb\" target=\"_parent\"><img src=\"https://colab.research.google.com/assets/colab-badge.svg\" alt=\"Open In Colab\"/></a>"
      ]
    },
    {
      "cell_type": "markdown",
      "source": [
        "41371121H 科技117 黃昱瑋\n",
        "[試算表連結](https://docs.google.com/spreadsheets/d/16Fudzxcy-m2brNoUM6AnELBWeYMm_cGi7TQnUqIUkKc/edit?gid=1597707981#gid=1597707981)"
      ],
      "metadata": {
        "id": "uiSZ5UFq8LQg"
      }
    },
    {
      "cell_type": "code",
      "source": [
        "!pip install -q google-generativeai"
      ],
      "metadata": {
        "id": "8dhA2pQxhLLX"
      },
      "execution_count": 8,
      "outputs": []
    },
    {
      "cell_type": "code",
      "source": [
        "import gradio as gr\n",
        "import pandas as pd\n",
        "from google.colab import auth\n",
        "from google.auth import default\n",
        "\n",
        "# -*- coding: utf-8 -*-\n",
        "import gspread\n",
        "from datetime import datetime\n",
        "import google.generativeai as genai\n",
        "import os\n",
        "import json"
      ],
      "metadata": {
        "id": "Niq4EB1Ui-Pk"
      },
      "execution_count": 9,
      "outputs": []
    },
    {
      "cell_type": "code",
      "source": [
        "from google.colab import userdata\n",
        "\n",
        "# 從 Colab Secrets 中獲取 API 金鑰\n",
        "api_key = userdata.get('agevjfgd')\n",
        "\n",
        "# 使用獲取的金鑰配置 genai\n",
        "genai.configure(api_key=api_key)\n",
        "\n",
        "model = genai.GenerativeModel('gemini-2.5-pro')"
      ],
      "metadata": {
        "id": "XjPjVJFnkUCk"
      },
      "execution_count": 10,
      "outputs": []
    },
    {
      "cell_type": "code",
      "source": [
        "SHEET_URL = \"https://docs.google.com/spreadsheets/d/16Fudzxcy-m2brNoUM6AnELBWeYMm_cGi7TQnUqIUkKc/edit?gid=1597707981#gid=1597707981\"\n",
        "WORKSHEET_NAME = \"工作表2\"\n",
        "\n",
        "REQUIRED_COLUMNS = [\"日期\", \"科目\", \"作業成績\"]\n",
        "\n",
        "_auth_done = False\n",
        "_gc = None\n",
        "_ws = None"
      ],
      "metadata": {
        "id": "_RATk0PYi-q9"
      },
      "execution_count": 11,
      "outputs": []
    },
    {
      "cell_type": "code",
      "source": [
        "# --- 主要功能區塊 ---\n",
        "def get_user_grades():\n",
        "    \"\"\"\n",
        "    透過終端機輸入學生成績，直到使用者輸入 'q' 結束。\n",
        "    \"\"\"\n",
        "    print(\"--- 準備輸入成績。輸入 'q' 來停止。---\")\n",
        "    grades = []\n",
        "    while True:\n",
        "        subject = input(\"請輸入科目（或輸入 'q' 停止）：\")\n",
        "        if subject.lower() == 'q':\n",
        "            break\n",
        "\n",
        "        grade = input(f\"請輸入 {subject} 的成績：\")\n",
        "        try:\n",
        "            grade = int(grade)\n",
        "        except ValueError:\n",
        "            print(\"成績必須是數字。請重新輸入。\")\n",
        "            continue\n",
        "\n",
        "        today = datetime.now().strftime('%Y-%m-%d')\n",
        "        grades.append([today, subject, grade])\n",
        "        print(f\"已記錄：日期: {today}, 科目: {subject}, 成績: {grade}\\n\")\n",
        "\n",
        "    return grades"
      ],
      "metadata": {
        "id": "8jleG-tykEh1"
      },
      "execution_count": 12,
      "outputs": []
    },
    {
      "cell_type": "code",
      "source": [
        "def get_ai_summary(grades):\n",
        "    \"\"\"\n",
        "    呼叫 Gemini 模型來生成成績摘要與常見迷思。\n",
        "    \"\"\"\n",
        "    model = genai.GenerativeModel('gemini-1.5-flash')\n",
        "\n",
        "    # 準備給 AI 的提示\n",
        "    prompt_text = \"以下是學生的成績列表，請幫我根據這些成績，產出一個簡單的摘要與常見迷思整理（不評分，只做總結）。\\n\\n\"\n",
        "    for record in grades:\n",
        "        date, subject, grade = record\n",
        "        prompt_text += f\"日期：{date}, 科目：{subject}, 成績：{grade}\\n\"\n",
        "\n",
        "    print(\"\\n--- 正在呼叫 AI 模型生成摘要... ---\")\n",
        "    try:\n",
        "        response = model.generate_content(prompt_text)\n",
        "        summary = response.text\n",
        "        return summary\n",
        "    except Exception as e:\n",
        "        print(f\"呼叫 AI 時發生錯誤：{e}\")\n",
        "        return \"AI 摘要生成失敗。\""
      ],
      "metadata": {
        "id": "0ondj4vCktXd"
      },
      "execution_count": 13,
      "outputs": []
    },
    {
      "cell_type": "code",
      "source": [
        "new_grades = get_user_grades()"
      ],
      "metadata": {
        "id": "hn_-fzKmnYaA",
        "colab": {
          "base_uri": "https://localhost:8080/"
        },
        "outputId": "47d337f6-d7b3-42a4-9d28-589d7dfd16ff"
      },
      "execution_count": 14,
      "outputs": [
        {
          "name": "stdout",
          "output_type": "stream",
          "text": [
            "--- 準備輸入成績。輸入 'q' 來停止。---\n",
            "請輸入科目（或輸入 'q' 停止）：100\n",
            "請輸入 100 的成績：56\n",
            "已記錄：日期: 2025-10-02, 科目: 100, 成績: 56\n",
            "\n",
            "請輸入科目（或輸入 'q' 停止）：86\n",
            "請輸入 86 的成績：77\n",
            "已記錄：日期: 2025-10-02, 科目: 86, 成績: 77\n",
            "\n",
            "請輸入科目（或輸入 'q' 停止）：89\n",
            "請輸入 89 的成績：q\n",
            "成績必須是數字。請重新輸入。\n",
            "請輸入科目（或輸入 'q' 停止）：q\n"
          ]
        }
      ]
    },
    {
      "cell_type": "code",
      "source": [
        "new_grades"
      ],
      "metadata": {
        "id": "xHjBRfNFnfB9",
        "colab": {
          "base_uri": "https://localhost:8080/"
        },
        "outputId": "7c12b888-8977-48cc-c063-71ef0c6d83a5"
      },
      "execution_count": 15,
      "outputs": [
        {
          "output_type": "execute_result",
          "data": {
            "text/plain": [
              "[['2025-10-02', '100', 56], ['2025-10-02', '86', 77]]"
            ]
          },
          "metadata": {},
          "execution_count": 15
        }
      ]
    },
    {
      "cell_type": "code",
      "source": [
        "get_ai_summary(new_grades)"
      ],
      "metadata": {
        "id": "33f1UZegm5h_",
        "colab": {
          "base_uri": "https://localhost:8080/",
          "height": 129
        },
        "outputId": "e74c63ce-b68b-4a18-b799-808d6158a614"
      },
      "execution_count": 16,
      "outputs": [
        {
          "output_type": "stream",
          "name": "stdout",
          "text": [
            "\n",
            "--- 正在呼叫 AI 模型生成摘要... ---\n"
          ]
        },
        {
          "output_type": "stream",
          "name": "stderr",
          "text": [
            "WARNING:tornado.access:404 POST /v1beta/models/gemini-1.5-flash:generateContent?%24alt=json%3Benum-encoding%3Dint (127.0.0.1) 431.26ms\n"
          ]
        },
        {
          "output_type": "stream",
          "name": "stdout",
          "text": [
            "呼叫 AI 時發生錯誤：404 POST https://generativelanguage.googleapis.com/v1beta/models/gemini-1.5-flash:generateContent?%24alt=json%3Benum-encoding%3Dint: models/gemini-1.5-flash is not found for API version v1beta, or is not supported for generateContent. Call ListModels to see the list of available models and their supported methods.\n"
          ]
        },
        {
          "output_type": "execute_result",
          "data": {
            "text/plain": [
              "'AI 摘要生成失敗。'"
            ],
            "application/vnd.google.colaboratory.intrinsic+json": {
              "type": "string"
            }
          },
          "metadata": {},
          "execution_count": 16
        }
      ]
    },
    {
      "cell_type": "code",
      "source": [
        "def main():\n",
        "    \"\"\"\n",
        "    主程式流程：輸入成績 -> 獲取 AI 摘要 -> 寫入 Google Sheet。\n",
        "    \"\"\"\n",
        "    try:\n",
        "        # 1. Google Sheet 身份驗證\n",
        "        auth.authenticate_user()\n",
        "\n",
        "        creds, _ = default()\n",
        "        gc = gspread.authorize(creds)\n",
        "\n",
        "        sh = gc.open_by_url(SHEET_URL)\n",
        "        ws = sh.worksheet(WORKSHEET_NAME)\n",
        "\n",
        "\n",
        "\n",
        "\n",
        "\n",
        "        print(\"--- Google Sheet 連線成功。---\")\n",
        "\n",
        "        # 2. 獲取使用者輸入的成績\n",
        "        new_grades = get_user_grades()\n",
        "\n",
        "        if not new_grades:\n",
        "            print(\"沒有輸入任何成績，程式結束。\")\n",
        "            return\n",
        "\n",
        "        # 3. 將新成績寫入 Google Sheet\n",
        "        ws.append_rows(new_grades)\n",
        "        print(\"\\n--- 成績已成功寫入 Google Sheet。---\")\n",
        "\n",
        "        # 4. 獲取 AI 摘要並寫入 Google Sheet\n",
        "        summary = get_ai_summary(new_grades)\n",
        "\n",
        "        # 尋找第一行空白列\n",
        "        next_row = len(ws.col_values(1)) + 1\n",
        "\n",
        "        # 使用 update_cell() 方法逐一更新儲存格\n",
        "        ws.update_cell(next_row, 1, datetime.now().strftime('%Y-%m-%d'))\n",
        "        ws.update_cell(next_row, 2, 'AI 摘要')\n",
        "\n",
        "        # 為了避免單元格內容過長，將摘要內容分成多行來寫入\n",
        "        summary_lines = summary.split('\\n')\n",
        "        for i, line in enumerate(summary_lines):\n",
        "            ws.update_cell(next_row + i, 3, line)\n",
        "\n",
        "        print(\"\\n--- AI 摘要已成功寫入 Google Sheet。---\")\n",
        "        print(\"以下是 AI 生成的摘要內容：\")\n",
        "        print(\"-\" * 50)\n",
        "        print(summary)\n",
        "        print(\"-\" * 50)\n",
        "\n",
        "    except gspread.exceptions.APIError as e:\n",
        "        print(f\"Google Sheets API 錯誤：{e.response.text}\")\n",
        "        print(\"請確認：\")\n",
        "        print(\"1. 您的服務帳戶金鑰檔案正確且未過期。\")\n",
        "        print(\"2. 您已將服務帳戶的 Email 地址（在 JSON 檔案中）分享給 Google Sheet，並給予編輯權限。\")\n",
        "    except Exception as e:\n",
        "        print(f\"發生未預期的錯誤：{e}\")\n",
        "\n",
        "if __name__ == \"__main__\":\n",
        "    main()"
      ],
      "metadata": {
        "id": "-lyLrutakzqY",
        "colab": {
          "base_uri": "https://localhost:8080/",
          "height": 457
        },
        "outputId": "805d4000-1758-48d4-b6b7-72a97b8ebd88"
      },
      "execution_count": 18,
      "outputs": [
        {
          "output_type": "stream",
          "name": "stdout",
          "text": [
            "--- Google Sheet 連線成功。---\n",
            "--- 準備輸入成績。輸入 'q' 來停止。---\n",
            "請輸入科目（或輸入 'q' 停止）：國文\n",
            "請輸入 國文 的成績：80\n",
            "已記錄：日期: 2025-10-02, 科目: 國文, 成績: 80\n",
            "\n",
            "請輸入科目（或輸入 'q' 停止）：英文\n",
            "請輸入 英文 的成績：99\n",
            "已記錄：日期: 2025-10-02, 科目: 英文, 成績: 99\n",
            "\n",
            "請輸入科目（或輸入 'q' 停止）：q\n",
            "\n",
            "--- 成績已成功寫入 Google Sheet。---\n",
            "\n",
            "--- 正在呼叫 AI 模型生成摘要... ---\n"
          ]
        },
        {
          "output_type": "stream",
          "name": "stderr",
          "text": [
            "WARNING:tornado.access:404 POST /v1beta/models/gemini-1.5-flash:generateContent?%24alt=json%3Benum-encoding%3Dint (127.0.0.1) 354.73ms\n"
          ]
        },
        {
          "output_type": "stream",
          "name": "stdout",
          "text": [
            "呼叫 AI 時發生錯誤：404 POST https://generativelanguage.googleapis.com/v1beta/models/gemini-1.5-flash:generateContent?%24alt=json%3Benum-encoding%3Dint: models/gemini-1.5-flash is not found for API version v1beta, or is not supported for generateContent. Call ListModels to see the list of available models and their supported methods.\n",
            "\n",
            "--- AI 摘要已成功寫入 Google Sheet。---\n",
            "以下是 AI 生成的摘要內容：\n",
            "--------------------------------------------------\n",
            "AI 摘要生成失敗。\n",
            "--------------------------------------------------\n"
          ]
        }
      ]
    }
  ]
}